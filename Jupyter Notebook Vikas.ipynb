{
    "cells": [
        {
            "cell_type": "markdown",
            "metadata": {},
            "source": "# Description \n\nThis note is for analyse"
        },
        {
            "cell_type": "code",
            "execution_count": 1,
            "metadata": {},
            "outputs": [
                {
                    "data": {
                        "text/html": "<div>\n<style scoped>\n    .dataframe tbody tr th:only-of-type {\n        vertical-align: middle;\n    }\n\n    .dataframe tbody tr th {\n        vertical-align: top;\n    }\n\n    .dataframe thead th {\n        text-align: right;\n    }\n</style>\n<table border=\"1\" class=\"dataframe\">\n  <thead>\n    <tr style=\"text-align: right;\">\n      <th></th>\n      <th>AccountCode</th>\n      <th>AccountName</th>\n      <th>Debit</th>\n      <th>Credit</th>\n      <th>Reference</th>\n      <th>TaxCode</th>\n    </tr>\n  </thead>\n  <tbody>\n    <tr>\n      <th>0</th>\n      <td>700-0310</td>\n      <td>UOB BANK (SGD) 3633010488</td>\n      <td>0.0</td>\n      <td>82281.5</td>\n      <td>Wages and Salary for pay period ending: 30/11/...</td>\n      <td>NaN</td>\n    </tr>\n    <tr>\n      <th>1</th>\n      <td>400-0400</td>\n      <td>SALARIES</td>\n      <td>89256.0</td>\n      <td>0.0</td>\n      <td>Wages Expense for pay period ending: 30/11/2021</td>\n      <td>NaN</td>\n    </tr>\n    <tr>\n      <th>2</th>\n      <td>800-0151</td>\n      <td>ACCRUAL - CPF</td>\n      <td>0.0</td>\n      <td>13.0</td>\n      <td>Chinese Development Assistance Council (CDAC) ...</td>\n      <td>NaN</td>\n    </tr>\n    <tr>\n      <th>3</th>\n      <td>800-0151</td>\n      <td>ACCRUAL - CPF</td>\n      <td>0.0</td>\n      <td>6.5</td>\n      <td>Mosque Building and Mendaki Fund (MBMF) Liabil...</td>\n      <td>NaN</td>\n    </tr>\n    <tr>\n      <th>4</th>\n      <td>400-0120</td>\n      <td>CPF</td>\n      <td>6086.0</td>\n      <td>0.0</td>\n      <td>CPF Employer Expense for pay period ending: 30...</td>\n      <td>NaN</td>\n    </tr>\n  </tbody>\n</table>\n</div>",
                        "text/plain": "  AccountCode                AccountName    Debit   Credit  \\\n0    700-0310  UOB BANK (SGD) 3633010488      0.0  82281.5   \n1    400-0400                   SALARIES  89256.0      0.0   \n2    800-0151              ACCRUAL - CPF      0.0     13.0   \n3    800-0151              ACCRUAL - CPF      0.0      6.5   \n4    400-0120                        CPF   6086.0      0.0   \n\n                                           Reference  TaxCode  \n0  Wages and Salary for pay period ending: 30/11/...      NaN  \n1    Wages Expense for pay period ending: 30/11/2021      NaN  \n2  Chinese Development Assistance Council (CDAC) ...      NaN  \n3  Mosque Building and Mendaki Fund (MBMF) Liabil...      NaN  \n4  CPF Employer Expense for pay period ending: 30...      NaN  "
                    },
                    "execution_count": 1,
                    "metadata": {},
                    "output_type": "execute_result"
                }
            ],
            "source": "# The code was removed by Watson Studio for sharing."
        },
        {
            "cell_type": "code",
            "execution_count": null,
            "metadata": {},
            "outputs": [],
            "source": ""
        }
    ],
    "metadata": {
        "kernelspec": {
            "display_name": "Python 3.8",
            "language": "python",
            "name": "python3"
        },
        "language_info": {
            "codemirror_mode": {
                "name": "ipython",
                "version": 3
            },
            "file_extension": ".py",
            "mimetype": "text/x-python",
            "name": "python",
            "nbconvert_exporter": "python",
            "pygments_lexer": "ipython3",
            "version": "3.8.12"
        }
    },
    "nbformat": 4,
    "nbformat_minor": 1
}